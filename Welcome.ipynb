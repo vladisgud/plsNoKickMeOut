{
 "cells": [
  {
   "cell_type": "markdown",
   "metadata": {},
   "source": [
    "# Welcome to jupyter notebooks"
   ]
  },
  {
   "cell_type": "markdown",
   "metadata": {},
   "source": [
    "A jupyter notebook conveniently divides a python session into editable cells like the one below.\n",
    "\n",
    "Click into the cell below and press `ctrl-enter` to run it."
   ]
  },
  {
   "cell_type": "code",
   "execution_count": 101,
   "metadata": {},
   "outputs": [
    {
     "name": "stdout",
     "output_type": "stream",
     "text": [
      "11\n",
      "12\n",
      "13\n",
      "14\n",
      "15\n",
      "16\n",
      "17\n",
      "18\n",
      "19\n",
      "20\n"
     ]
    }
   ],
   "source": [
    "x = 11\n",
    "for i in range(10):\n",
    "    print(x+i)"
   ]
  },
  {
   "cell_type": "markdown",
   "metadata": {},
   "source": [
    "### Markdown cells\n",
    "\n",
    "This cell is in [markdown](https://daringfireball.net/projects/markdown/basics) format. This is useful for adding notes and explanation around sections of code.\n",
    "\n",
    "You can double-click on a markdown cell to edit it, and then `ctrl-enter` again when you're done. Try that with this cell."
   ]
  },
  {
   "cell_type": "markdown",
   "metadata": {},
   "source": [
    "### Some useful shortcuts\n",
    "\n",
    "`ctrl-enter` executes a cell. `shift-enter` does the same thing but advances to the next cell, making a new one if necessary.\n",
    "\n",
    "Press `esc` to get into command mode then\n",
    "\n",
    "* `h` to see a list of all keyboard shortcuts\n",
    "* `m` to make the current cell a markdown cell\n",
    "* `y` to make the current cell a code cell\n",
    "* `b` to add a new cell after the current one\n",
    "* `a` to add a new cell before the current one\n",
    "* `c` to copy, `x` to cut, `v` to paste a cell\n",
    "* `dd` to delete"
   ]
  },
  {
   "cell_type": "code",
   "execution_count": 111,
   "metadata": {
    "scrolled": true
   },
   "outputs": [
    {
     "name": "stdout",
     "output_type": "stream",
     "text": [
      "x is still 11\n"
     ]
    }
   ],
   "source": [
    "print(\"x is still {}\".format(x))"
   ]
  },
  {
   "cell_type": "markdown",
   "metadata": {},
   "source": [
    "So, variables in earlier cells are still in scope."
   ]
  },
  {
   "cell_type": "code",
   "execution_count": null,
   "metadata": {
    "collapsed": true
   },
   "outputs": [],
   "source": [
    "### Typesetting maths\n",
    "\n",
    "Markdown cells understand the [mathjax](https://math.meta.stackexchange.com/questions/5020/mathjax-basic-tutorial-and-quick-reference) dialect of the $\\LaTeX$ typesetting language. Execute the next cell to see it in action."
   ]
  },
  {
   "cell_type": "markdown",
   "metadata": {},
   "source": [
    "If $ax^2+bx+c=0$ then, $$x=\\dfrac{-b\\pm\\sqrt{b^2-4ac}}{2a}$$"
   ]
  },
  {
   "cell_type": "markdown",
   "metadata": {},
   "source": [
    "### Useful Python packages for maths\n",
    "\n",
    "* `matplotlib` for [drawing graphs](http://matplotlib.org/users/pyplot_tutorial.html)\n",
    "* `sympy` for [symbolic algebra](http://docs.sympy.org/latest/tutorial/intro.html)\n",
    "* `pandas` for [data analysis and visualisation](http://pandas.pydata.org/pandas-docs/stable/tutorials.html)\n",
    "* `numpy` for [fast, efficient computation](https://docs.scipy.org/doc/numpy-dev/user/quickstart.html)\n",
    "\n",
    "If you come across other packages that you need, just let me know and I'll install them."
   ]
  },
  {
   "cell_type": "code",
   "execution_count": 5,
   "metadata": {},
   "outputs": [
    {
     "data": {
      "image/png": "[encoded data removed]",
      "text/plain": [
       "<matplotlib.figure.Figure at 0x7ff90a6453c8>"
      ]
     },
     "metadata": {},
     "output_type": "display_data"
    }
   ],
   "source": [
    "import matplotlib.pyplot as plt\n",
    "import numpy as np\n",
    "# tell jupyter to draw graphs in the notebook\n",
    "%matplotlib inline\n",
    "\n",
    "# generate 24 x coordinates between 0 and pi\n",
    "xs = np.linspace(0,2*np.pi,100)\n",
    "# numpy can find sine of each without you having to write a loop\n",
    "ys = np.sin(xs)\n",
    "# plot it\n",
    "plt.plot(xs,ys);"
   ]
  },
  {
   "cell_type": "markdown",
   "metadata": {},
   "source": [
    "You can carry on experimenting in this notebook or click `new->Python 3` from your directory page to start a new one."
   ]
  }
 ],
 "metadata": {
  "kernelspec": {
   "display_name": "Python 3",
   "language": "python",
   "name": "python3"
  },
  "language_info": {
   "codemirror_mode": {
    "name": "ipython",
    "version": 3
   },
   "file_extension": ".py",
   "mimetype": "text/x-python",
   "name": "python",
   "nbconvert_exporter": "python",
   "pygments_lexer": "ipython3",
   "version": "3.5.2"
  }
 },
 "nbformat": 4,
 "nbformat_minor": 2
}
