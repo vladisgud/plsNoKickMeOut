{
 "cells": [
  {
   "cell_type": "markdown",
   "metadata": {},
   "source": [
    "# loops \n",
    "eg for counter in range (10)\n",
    "  print(1-9)"
   ]
  },
  {
   "cell_type": "code",
   "execution_count": 14,
   "metadata": {},
   "outputs": [
    {
     "name": "stdout",
     "output_type": "stream",
     "text": [
      "1\n",
      "5\n",
      "9\n",
      "13\n",
      "17\n",
      "21\n",
      "25\n",
      "29\n",
      "33\n",
      "37\n",
      "41\n",
      "45\n",
      "49\n"
     ]
    }
   ],
   "source": [
    "for count in range(1,50,4):\n",
    " print (count)"
   ]
  },
  {
   "cell_type": "markdown",
   "metadata": {},
   "source": [
    "# here is an example of a simple for loop\n",
    "for begins it then we enter a variable name witch is count in my example and then we have in witch leads to range and then you give in the nuber that you wnat the list to start, then you need the end number an the number of steps te program that will be taking."
   ]
  },
  {
   "cell_type": "code",
   "execution_count": 72,
   "metadata": {},
   "outputs": [
    {
     "name": "stdout",
     "output_type": "stream",
     "text": [
      "50,49,48,47,46,45,44,43,42,41,40,39,38,37,36,35,34,33,32,31,30,29,28,27,26,25,24,23,22,21,20,19,18,17,16,15,14,13,12,11,10,9,8,7,6,5,4,3,2,1,"
     ]
    }
   ],
   "source": [
    "for count in range(50,0,-1):\n",
    " print(count,end=\",\")"
   ]
  },
  {
   "cell_type": "markdown",
   "metadata": {},
   "source": []
  },
  {
   "cell_type": "code",
   "execution_count": 76,
   "metadata": {},
   "outputs": [
    {
     "name": "stdout",
     "output_type": "stream",
     "text": [
      "do you want to continue? press s to stopg\n",
      "do you want to continue? press s to stopg\n",
      "do you want to continue? press s to stops\n"
     ]
    }
   ],
   "source": [
    "loopVar = \"x\" \n",
    "while loopVar != \"s\":\n",
    "   loopVar = input(\"do you want to continue? press s to stop\").lower()\n",
    "    "
   ]
  },
  {
   "cell_type": "markdown",
   "metadata": {},
   "source": [
    "# here is an example of what a program using loops should look like "
   ]
  },
  {
   "cell_type": "code",
   "execution_count": 96,
   "metadata": {},
   "outputs": [
    {
     "name": "stdout",
     "output_type": "stream",
     "text": [
      "yeah! you have won!!!\n"
     ]
    }
   ],
   "source": [
    "import random\n",
    "\n",
    "won = False \n",
    "lives = 5\n",
    "\n",
    "while not won and lives > 0 :\n",
    "    lives = lives -1 \n",
    "    x = random.randint(0,10)\n",
    "    if x == 5 or x==7 or x==2:\n",
    "        won = True\n",
    "        print(\"yeah! you have won!!!\")\n",
    "    else:\n",
    "        print(\"you didnt win but you have\", lives , \"lives left\")\n",
    "        \n",
    "if lives == 0:\n",
    "    print(\"sorry, you lost the game\")"
   ]
  }
 ],
 "metadata": {
  "kernelspec": {
   "display_name": "Python 3",
   "language": "python",
   "name": "python3"
  },
  "language_info": {
   "codemirror_mode": {
    "name": "ipython",
    "version": 3
   },
   "file_extension": ".py",
   "mimetype": "text/x-python",
   "name": "python",
   "nbconvert_exporter": "python",
   "pygments_lexer": "ipython3",
   "version": "3.5.2"
  }
 },
 "nbformat": 4,
 "nbformat_minor": 2
}
