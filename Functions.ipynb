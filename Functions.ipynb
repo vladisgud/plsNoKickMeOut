{
 "cells": [
  {
   "cell_type": "markdown",
   "metadata": {},
   "source": [
    "## Functions in Python\n",
    "\n",
    "Functions are \"self contained\" sections of code that accomplish a specific task.  Its like a recipe. \n",
    "\n",
    "In python the keyword that starts a function is\n",
    "\n",
    "```python \n",
    "    def function_name(dataIn):\n",
    "```\n",
    "\n",
    "Functions usually \"take in\" data, process it, and \"return\" a result. In python this looks like:\n",
    "```python\n",
    "    def function_name(dataIn):\n",
    "    \n",
    "        #do stuff with the data to get a result\n",
    "        \n",
    "        return result\n",
    "```\n",
    "\n"
   ]
  },
  {
   "cell_type": "markdown",
   "metadata": {},
   "source": [
    "Once a function is written, it can be used over and over and over again. \n",
    "\n",
    "Functions must be \"called\" with actual data in order to be executed. Back to the recipe analogy - a recipe is not the cake, you actually have to follow the recipe with actual ingredients to end up with a resulting cake!\n",
    "\n",
    "```python\n",
    "result = function_name(3) # the data taken in is the number 3\n",
    "answer = function_name(78) # the data taken in is the number 78\n",
    "start=77\n",
    "final = function_name(start) # the data taken in is the value of the variable start \n",
    "```\n",
    "\n",
    "[Read more about functions here](http://www.cs.utah.edu/~germain/PPS/Topics/functions.html)\n",
    "\n",
    "remember to make you own notes as you learn new things."
   ]
  },
  {
   "cell_type": "markdown",
   "metadata": {},
   "source": [
    "## Task - write a library of maths functions\n",
    "\n",
    "1. add - takes 2 parameters: the two numbers to add, returns the sum\n",
    "\n",
    "2. subtract - takes 2 parameters: the two numbers to subtract, returns the difference\n",
    "\n",
    "3. floorDivide - takes 2 parameters: the two numbers to divide, returns the whole quotient\n",
    "\n",
    "4. divide - takes 2 parameters: the two numbers to divide, returns the quotient (as a decimal)\n",
    "\n",
    "4. multiply - takes 2 parameters: the two numbers to multiply, returns the product\n",
    "\n",
    "5. getRemainder - takes 2 parameters: the two numbers to divide, returns the remainder\n",
    "\n",
    "6. power takes 2 parameters: the two numbers one is the base the other the power, returns  base ^ power\n",
    "\n"
   ]
  },
  {
   "cell_type": "code",
   "execution_count": 3,
   "metadata": {},
   "outputs": [],
   "source": [
    "def add (number1, number2):\n",
    "    answer = number1+number2\n",
    "    return awnswer\n",
    "\n",
    "    "
   ]
  },
  {
   "cell_type": "code",
   "execution_count": 4,
   "metadata": {},
   "outputs": [
    {
     "data": {
      "text/plain": [
       "115"
      ]
     },
     "execution_count": 4,
     "metadata": {},
     "output_type": "execute_result"
    }
   ],
   "source": [
    "add(63,52)"
   ]
  },
  {
   "cell_type": "code",
   "execution_count": 78,
   "metadata": {},
   "outputs": [],
   "source": [
    "def subtract (num1, num2):\n",
    "    answer = num1-num2\n",
    "    return answer\n"
   ]
  },
  {
   "cell_type": "code",
   "execution_count": 79,
   "metadata": {},
   "outputs": [
    {
     "data": {
      "text/plain": [
       "10"
      ]
     },
     "execution_count": 79,
     "metadata": {},
     "output_type": "execute_result"
    }
   ],
   "source": [
    "subtract(45,35)"
   ]
  },
  {
   "cell_type": "code",
   "execution_count": 93,
   "metadata": {},
   "outputs": [],
   "source": [
    "def floorDivide (num1, num2):\n",
    "    answer = num1//num2\n",
    "    return answer"
   ]
  },
  {
   "cell_type": "code",
   "execution_count": 94,
   "metadata": {},
   "outputs": [
    {
     "data": {
      "text/plain": [
       "2"
      ]
     },
     "execution_count": 94,
     "metadata": {},
     "output_type": "execute_result"
    }
   ],
   "source": [
    "floorDivide(5,2)"
   ]
  },
  {
   "cell_type": "code",
   "execution_count": 95,
   "metadata": {},
   "outputs": [],
   "source": [
    "def divide (num1, num2):\n",
    "    answer = num1/num2\n",
    "    return answer"
   ]
  },
  {
   "cell_type": "code",
   "execution_count": 96,
   "metadata": {},
   "outputs": [
    {
     "data": {
      "text/plain": [
       "23.0"
      ]
     },
     "execution_count": 96,
     "metadata": {},
     "output_type": "execute_result"
    }
   ],
   "source": [
    "divide(69,3)"
   ]
  },
  {
   "cell_type": "code",
   "execution_count": 98,
   "metadata": {},
   "outputs": [],
   "source": [
    "def multiply (num1, num2):\n",
    "    answer = num1*num2\n",
    "    return answer"
   ]
  },
  {
   "cell_type": "code",
   "execution_count": 99,
   "metadata": {},
   "outputs": [
    {
     "data": {
      "text/plain": [
       "99"
      ]
     },
     "execution_count": 99,
     "metadata": {},
     "output_type": "execute_result"
    }
   ],
   "source": [
    "multiply(9,11)"
   ]
  },
  {
   "cell_type": "code",
   "execution_count": 101,
   "metadata": {},
   "outputs": [],
   "source": [
    "def getRemainder (num1, num2):\n",
    "    answer = num1%num2\n",
    "    return answer"
   ]
  },
  {
   "cell_type": "code",
   "execution_count": 102,
   "metadata": {},
   "outputs": [
    {
     "data": {
      "text/plain": [
       "22"
      ]
     },
     "execution_count": 102,
     "metadata": {},
     "output_type": "execute_result"
    }
   ],
   "source": [
    "getRemainder(67,45)"
   ]
  },
  {
   "cell_type": "code",
   "execution_count": 104,
   "metadata": {},
   "outputs": [],
   "source": [
    "def power (num1, num2):\n",
    "    answer = num1**num2\n",
    "    return answer"
   ]
  },
  {
   "cell_type": "code",
   "execution_count": 105,
   "metadata": {},
   "outputs": [
    {
     "data": {
      "text/plain": [
       "2097152"
      ]
     },
     "execution_count": 105,
     "metadata": {},
     "output_type": "execute_result"
    }
   ],
   "source": [
    "power(8,7)"
   ]
  },
  {
   "cell_type": "markdown",
   "metadata": {},
   "source": [
    "## function definitions\n",
    "\n",
    "In the next cell we are defining the function and the input values (called parameters). These input values are simply placeholders for actual values that will be used when calling the function. In the cake analogy, the egg in a recipe does not exisit until you actually make a cake. Then you need to use a real egg."
   ]
  },
  {
   "cell_type": "code",
   "execution_count": null,
   "metadata": {
    "collapsed": true
   },
   "outputs": [],
   "source": [
    "#this function adds two numbers passed as parameters\n",
    "def add (number1, number2):\n",
    "    answer = number1+number2\n",
    "    return  answer"
   ]
  },
  {
   "cell_type": "markdown",
   "metadata": {},
   "source": [
    "## calling functions\n",
    "\n",
    "In the cells below we are CALLING the function with actual values (ARGUMENTS)"
   ]
  },
  {
   "cell_type": "code",
   "execution_count": null,
   "metadata": {},
   "outputs": [],
   "source": [
    "add(4,5)"
   ]
  },
  {
   "cell_type": "code",
   "execution_count": null,
   "metadata": {},
   "outputs": [],
   "source": [
    "add(-6,-5)"
   ]
  },
  {
   "cell_type": "code",
   "execution_count": null,
   "metadata": {},
   "outputs": [],
   "source": [
    "add(5.6, 9)"
   ]
  },
  {
   "cell_type": "code",
   "execution_count": null,
   "metadata": {},
   "outputs": [],
   "source": [
    "add (\"hello\", \"world\") # ooops this is weird!!"
   ]
  },
  {
   "cell_type": "markdown",
   "metadata": {},
   "source": [
    "## Testing code with asserts\n",
    "\n",
    "The assert statement exists in almost every programming language. When you do...\n",
    "\n",
    "\n",
    "```python\n",
    "assert <condition>\n",
    "```\n",
    "\n",
    "you're telling the program to test that condition, and trigger an error if the condition is false.\n",
    "\n",
    "Here is a simple example;\n",
    "```python\n",
    "assert 2 + 2 == 5, \"Houston we've got a problem\"\n",
    "```\n",
    "\n",
    "Since 2+2 doed **NOT** equal 5, this code will print out the message  \"Houston we've got a problem\" - you can test it out below\n",
    "\n",
    "[Much more on testing here](http://docs.python-guide.org/en/latest/writing/tests/)"
   ]
  },
  {
   "cell_type": "markdown",
   "metadata": {},
   "source": [
    "## test the assert code below and fix it so that it doesn't throw an AssertionError"
   ]
  },
  {
   "cell_type": "code",
   "execution_count": null,
   "metadata": {},
   "outputs": [],
   "source": [
    "assert 2 + 2 == 5, \"Houston we've got a problem\" #This will give an AssertionError\n"
   ]
  },
  {
   "cell_type": "code",
   "execution_count": null,
   "metadata": {
    "collapsed": true
   },
   "outputs": [],
   "source": [
    "assert 2 + 2 == 4, \"Houston we've got a problem\" #this won't give an error!"
   ]
  },
  {
   "cell_type": "markdown",
   "metadata": {},
   "source": [
    "## Task: Write the function definitions \n",
    "\n",
    "subtract - takes 2 parameters: the two numbers to subtract, returns the difference\n",
    "\n",
    "floorDivide - takes 2 parameters: the two numbers to divide, returns the whole quotient\n",
    "\n",
    "divide - takes 2 parameters: the two numbers to divide, returns the quotient (as a decimal)\n",
    "\n",
    "multiply - takes 2 parameters: the two numbers to multiply, returns the product\n",
    "\n",
    "getRemainder - takes 2 parameters: the two numbers to divide, returns the remainder\n",
    "\n",
    "power - takes 2 parameters: the two numbers one is the base the other the power, returns base ^ power\n"
   ]
  },
  {
   "cell_type": "code",
   "execution_count": null,
   "metadata": {
    "collapsed": true
   },
   "outputs": [],
   "source": [
    "# subtract function \n",
    "def subtract (num1, num2):\n",
    "    answer = num1-num2\n",
    "    return answer\n",
    "# floorDivide function\n",
    "def floorDivide (num1, num2):\n",
    "    answer = num1//num2\n",
    "    return answer\n",
    "# divide function\n",
    "def divide (num1, num2):\n",
    "    answer = num1/num2\n",
    "    return answer\n",
    "# multiply function\n",
    "def multiply (num1, num2):\n",
    "    answer = num1*num2\n",
    "    return answer\n",
    "# getRemainder function\n",
    "def getRemainder (num1, num2):\n",
    "    answer = num1%num2\n",
    "    return answer\n",
    "# power function\n",
    "def power (num1, num2):\n",
    "    answer = num1**num2\n",
    "    return answer"
   ]
  },
  {
   "cell_type": "markdown",
   "metadata": {},
   "source": [
    "## Task: Test the code you have written using the following asserts\n",
    "\n",
    "To test your code with all these asserts go to **Kernel** (on the menu) and choose **restart and run all**"
   ]
  },
  {
   "cell_type": "code",
   "execution_count": null,
   "metadata": {
    "collapsed": true
   },
   "outputs": [],
   "source": [
    "assert add(4,5)==9, \"add function not working\""
   ]
  },
  {
   "cell_type": "code",
   "execution_count": null,
   "metadata": {
    "collapsed": true
   },
   "outputs": [],
   "source": [
    "assert subtract(4,5)==-1, \"subtract function not working\""
   ]
  },
  {
   "cell_type": "code",
   "execution_count": null,
   "metadata": {
    "collapsed": true
   },
   "outputs": [],
   "source": [
    "assert multiply(4,5)==20, \"multiply function not working\""
   ]
  },
  {
   "cell_type": "code",
   "execution_count": null,
   "metadata": {
    "collapsed": true
   },
   "outputs": [],
   "source": [
    "assert divide(5,5)==1.0, \"divide function not working\""
   ]
  },
  {
   "cell_type": "code",
   "execution_count": null,
   "metadata": {
    "collapsed": true
   },
   "outputs": [],
   "source": [
    "assert floorDivide(1,2)==0.5, \"floor divide function not working\""
   ]
  },
  {
   "cell_type": "code",
   "execution_count": null,
   "metadata": {
    "collapsed": true
   },
   "outputs": [],
   "source": [
    "assert getRemainder(5,4)==1, \"getRemainder function not working\""
   ]
  },
  {
   "cell_type": "code",
   "execution_count": null,
   "metadata": {
    "collapsed": true
   },
   "outputs": [],
   "source": [
    "assert power(3,2)==9, \"power function not working\""
   ]
  }
 ],
 "metadata": {
  "kernelspec": {
   "display_name": "Python 3",
   "language": "python",
   "name": "python3"
  },
  "language_info": {
   "codemirror_mode": {
    "name": "ipython",
    "version": 3
   },
   "file_extension": ".py",
   "mimetype": "text/x-python",
   "name": "python",
   "nbconvert_exporter": "python",
   "pygments_lexer": "ipython3",
   "version": "3.5.2"
  }
 },
 "nbformat": 4,
 "nbformat_minor": 2
}
